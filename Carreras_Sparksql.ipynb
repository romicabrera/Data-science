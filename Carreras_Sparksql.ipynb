{
  "nbformat": 4,
  "nbformat_minor": 0,
  "metadata": {
    "colab": {
      "provenance": [],
      "authorship_tag": "ABX9TyOyWKTohXuafPQqdfL89mUZ",
      "include_colab_link": true
    },
    "kernelspec": {
      "name": "python3",
      "display_name": "Python 3"
    },
    "language_info": {
      "name": "python"
    }
  },
  "cells": [
    {
      "cell_type": "markdown",
      "metadata": {
        "id": "view-in-github",
        "colab_type": "text"
      },
      "source": [
        "<a href=\"https://colab.research.google.com/github/romicabrera/Data-science/blob/main/Carreras_Sparksql.ipynb\" target=\"_parent\"><img src=\"https://colab.research.google.com/assets/colab-badge.svg\" alt=\"Open In Colab\"/></a>"
      ]
    },
    {
      "cell_type": "code",
      "execution_count": 2,
      "metadata": {
        "colab": {
          "base_uri": "https://localhost:8080/"
        },
        "id": "WE-McSCP6nFx",
        "outputId": "34aba60b-ceaf-4c9c-f81c-2fa93be2a851"
      },
      "outputs": [
        {
          "output_type": "stream",
          "name": "stdout",
          "text": [
            "+---------------+--------------------+--------------------+----+---------+----------------+\n",
            "|_corrupt_record|                area|             carrera|  id|inscritos|     universidad|\n",
            "+---------------+--------------------+--------------------+----+---------+----------------+\n",
            "|              [|                NULL|                NULL|NULL|     NULL|            NULL|\n",
            "|           NULL|Económicas y Admi...|Ingeniería Comercial|   1|     3200|     U. de Chile|\n",
            "|           NULL|   Ciencias Sociales|             Derecho|   2|     2900|             PUC|\n",
            "|           NULL|               Salud|            Medicina|   3|     2500|U. de Concepción|\n",
            "|           NULL|   Ciencias Sociales|          Psicología|   4|     1800|  U. de Santiago|\n",
            "|           NULL|Ingeniería y Tecn...|    Ingeniería Civil|   5|     3100|           UTFSM|\n",
            "|              ]|                NULL|                NULL|NULL|     NULL|            NULL|\n",
            "+---------------+--------------------+--------------------+----+---------+----------------+\n",
            "\n",
            "root\n",
            " |-- _corrupt_record: string (nullable = true)\n",
            " |-- area: string (nullable = true)\n",
            " |-- carrera: string (nullable = true)\n",
            " |-- id: long (nullable = true)\n",
            " |-- inscritos: long (nullable = true)\n",
            " |-- universidad: string (nullable = true)\n",
            "\n",
            "Carreras con más de 2500 inscritos:\n",
            "+---------------+--------------------+--------------------+---+---------+-----------+\n",
            "|_corrupt_record|                area|             carrera| id|inscritos|universidad|\n",
            "+---------------+--------------------+--------------------+---+---------+-----------+\n",
            "|           NULL|Económicas y Admi...|Ingeniería Comercial|  1|     3200|U. de Chile|\n",
            "|           NULL|   Ciencias Sociales|             Derecho|  2|     2900|        PUC|\n",
            "|           NULL|Ingeniería y Tecn...|    Ingeniería Civil|  5|     3100|      UTFSM|\n",
            "+---------------+--------------------+--------------------+---+---------+-----------+\n",
            "\n",
            "Cantidad de carreras por área:\n",
            "+--------------------+--------+\n",
            "|                area|cantidad|\n",
            "+--------------------+--------+\n",
            "|               Salud|       1|\n",
            "|Ingeniería y Tecn...|       1|\n",
            "|Económicas y Admi...|       1|\n",
            "|   Ciencias Sociales|       2|\n",
            "|                NULL|       2|\n",
            "+--------------------+--------+\n",
            "\n",
            "Universidades con más de una carrera:\n",
            "+-----------+------------+\n",
            "|universidad|num_carreras|\n",
            "+-----------+------------+\n",
            "|       NULL|           2|\n",
            "+-----------+------------+\n",
            "\n",
            "+---------------+--------------------+--------------------+---+---------+----------------+-------------+\n",
            "|_corrupt_record|                area|             carrera| id|inscritos|     universidad|      demanda|\n",
            "+---------------+--------------------+--------------------+---+---------+----------------+-------------+\n",
            "|           NULL|Económicas y Admi...|Ingeniería Comercial|  1|     3200|     U. de Chile| Alta demanda|\n",
            "|           NULL|   Ciencias Sociales|             Derecho|  2|     2900|             PUC|Media demanda|\n",
            "|           NULL|               Salud|            Medicina|  3|     2500|U. de Concepción|Media demanda|\n",
            "|           NULL|   Ciencias Sociales|          Psicología|  4|     1800|  U. de Santiago| Baja demanda|\n",
            "|           NULL|Ingeniería y Tecn...|    Ingeniería Civil|  5|     3100|           UTFSM| Alta demanda|\n",
            "+---------------+--------------------+--------------------+---+---------+----------------+-------------+\n",
            "\n"
          ]
        }
      ],
      "source": [
        "from pyspark.sql import SparkSession\n",
        "from pyspark.sql.functions import udf\n",
        "from pyspark.sql.types import StringType\n",
        "from pyspark.sql.functions import col\n",
        "\n",
        "import sys\n",
        "import os\n",
        "os.environ[\"PYSPARK_PYTHON\"] = sys.executable\n",
        "\n",
        "# 1. Crear sesión Spark\n",
        "spark = SparkSession.builder.appName(\"AnalisisCarreras\").getOrCreate()\n",
        "\n",
        "# 2. Cargar datos en DataFrame\n",
        "df = spark.read.json(\"carreras.json\")\n",
        "df.show()\n",
        "\n",
        "# 3. Imprimir esquema\n",
        "df.printSchema()\n",
        "\n",
        "# Fix: Changed the temporary view name to a single-part name.\n",
        "df.createOrReplaceTempView(\"carreras\")\n",
        "\n",
        "# 4a. Carreras con más de 2500 inscritos\n",
        "print(\"Carreras con más de 2500 inscritos:\")\n",
        "spark.sql(\"SELECT * FROM carreras WHERE inscritos > 2500\").show()\n",
        "\n",
        "# 4b. Cantidad de carreras por área\n",
        "print(\"Cantidad de carreras por área:\")\n",
        "spark.sql(\"SELECT area, COUNT(*) as cantidad FROM carreras GROUP BY area\").show()\n",
        "\n",
        "# 4c. Universidades con más de una carrera\n",
        "print(\"Universidades con más de una carrera:\")\n",
        "spark.sql(\"SELECT universidad, COUNT(*) as num_carreras FROM carreras GROUP BY universidad HAVING num_carreras > 1\").show()\n",
        "\n",
        "# 5. UDF para clasificar demanda\n",
        "@udf(StringType())\n",
        "def clasificar_demanda(inscritos):\n",
        "    if inscritos is None:\n",
        "        return \"Desconocida\"  # Handle None values\n",
        "    if inscritos > 3000:\n",
        "        return \"Alta demanda\"\n",
        "    elif inscritos >= 2000:\n",
        "        return \"Media demanda\"\n",
        "    else:\n",
        "        return \"Baja demanda\"\n",
        "\n",
        "# Filter out rows where 'inscritos' is None before applying the UDF\n",
        "df_filtered = df.filter(col(\"inscritos\").isNotNull())\n",
        "\n",
        "df2 = df_filtered.withColumn(\"demanda\", clasificar_demanda(df_filtered.inscritos))\n",
        "df2.show()\n",
        "\n",
        "# 6. Guardar en Parquet\n",
        "df2.write.mode(\"overwrite\").parquet(\"carreras_procesadas.parquet\")\n",
        "\n",
        "spark.stop()"
      ]
    }
  ]
}