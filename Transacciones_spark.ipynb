{
  "nbformat": 4,
  "nbformat_minor": 0,
  "metadata": {
    "colab": {
      "provenance": [],
      "authorship_tag": "ABX9TyPXFlodzQbGonYxH1DOzHaR",
      "include_colab_link": true
    },
    "kernelspec": {
      "name": "python3",
      "display_name": "Python 3"
    },
    "language_info": {
      "name": "python"
    }
  },
  "cells": [
    {
      "cell_type": "markdown",
      "metadata": {
        "id": "view-in-github",
        "colab_type": "text"
      },
      "source": [
        "<a href=\"https://colab.research.google.com/github/romicabrera/Data-science/blob/main/Transacciones_spark.ipynb\" target=\"_parent\"><img src=\"https://colab.research.google.com/assets/colab-badge.svg\" alt=\"Open In Colab\"/></a>"
      ]
    },
    {
      "cell_type": "code",
      "execution_count": null,
      "metadata": {
        "colab": {
          "base_uri": "https://localhost:8080/"
        },
        "id": "NKnO4sOTvE2R",
        "outputId": "8fce8308-9ca1-450c-e71c-e41d195a56e6"
      },
      "outputs": [
        {
          "output_type": "stream",
          "name": "stdout",
          "text": [
            "Total: 9800.0, Promedio: 1400.0, Desviación estandar: 696.9320524371695\n",
            "[('Carla', 3800.0), ('Ana', 3300.0), ('Pedro', 2200.0)]\n"
          ]
        }
      ],
      "source": [
        "from pyspark.sql import SparkSession\n",
        "\n",
        "import sys\n",
        "import os\n",
        "os.environ[\"PYSPARK_PYTHON\"] = sys.executable\n",
        "\n",
        "# Crear sesión de Spark\n",
        "spark = SparkSession.builder.appName(\"AnalisisTransacciones\").getOrCreate()\n",
        "\n",
        "\n",
        "# 2. Cargar el archivo CSV\n",
        "file_path = 'transacciones2.csv'\n",
        "df_raw = spark.read.csv(file_path, header=True, inferSchema=True)\n",
        "rdd = df_raw.rdd\n",
        "\n",
        "\n",
        "# Ver las primeras líneas\n",
        "rdd.take(5)\n",
        "\n",
        "header = rdd.first()\n",
        "rdd = rdd.filter(lambda x: x != header)\n",
        "\n",
        "rdd_mapeado = rdd.map(lambda x: (x[1], float(x[2]), x[4]))\n",
        "\n",
        "rdd_mapeado.take(5)\n",
        "\n",
        "rdd_filtrado = rdd_mapeado.filter(lambda x: x[1] > 1000)\n",
        "rdd_filtrado.collect()\n",
        "\n",
        "rdd_gastos = rdd_mapeado.map(lambda x: (x[0], x[1])) \\\n",
        ".reduceByKey(lambda x, y: x + y)\n",
        "\n",
        "rdd_gastos.collect()\n",
        "\n",
        "montos = rdd_mapeado.map(lambda x: x[1])\n",
        "total = montos.sum()\n",
        "promedio = montos.mean()\n",
        "desviacion = montos.stdev()\n",
        "\n",
        "print(f\"Total: {total}, Promedio: {promedio}, Desviación estandar: {desviacion}\")\n",
        "\n",
        "top_usuarios = rdd_gastos.sortBy(lambda x: x[1], ascending=False).take(3)\n",
        "print(top_usuarios)"
      ]
    }
  ]
}